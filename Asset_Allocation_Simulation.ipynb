{
 "cells": [
  {
   "cell_type": "markdown",
   "metadata": {},
   "source": [
    "# Simulation Models to Determine Asset Allocation"
   ]
  },
  {
   "cell_type": "markdown",
   "metadata": {},
   "source": [
    "### What do we know?\n",
    "- Invest \\$1000 at the beginning of each year for 40 years\n",
    "- We specify percentage allocations among T-bills, T-bonds, & stocks\n",
    "- The portfolio value at the end of year 40 is discounted back to the current period using in random inflation in each year.\n",
    "\n",
    "### Model elements\n",
    "Key model output: present value of portfolio\n",
    "\n",
    "**Deterministic model**\\\n",
    "<u>Inputs</u>\\\n",
    "N = number of years we invest (e.g., N = 40) \\\n",
    "Y = amount invested at the beginning of year year (e.g., Y = 1000) \\\n",
    "x = \\[x1, x2, x3\\] = fraction invested in T-bills, T-bonds, and stocks over the 40-year period \\\n",
    "pt = \\[p1t, p2t, p3t\\] = percent change in T-bills, T-bonds, and stocks in year t \\\n",
    "it = inflation rate in year t \\\n",
    "damp = factor to control how probabilities decrease for older histories\n",
    "\n",
    "<u>Outputs</u>\\\n",
    "Pt = portfolio multiplier in year t = 1 + percent change in portfolio in year t \\\n",
    "Pt = 1 + (p1t * x1 + p2t * x2 + p3t * x3)\n",
    "\n",
    "$V_t$ = value of our investment at the end of year t \\\n",
    "$V_t = (V_{t-1} + Y) * Pt$ \\\n",
    "(Note $V_0$ is set to 0 to compute $V_1$)\n",
    "\n",
    "$D_t$ = discount factor through end of year t \\\n",
    "$D_t = D_{t-1}/(1+it)$ \\\n",
    "(Note $D_0$ is set to 1 to compute $D_1$)\n",
    "\n",
    "Z = present value of portfolio after N years of investing = $V_N * D_N$\n",
    "\n",
    "**Stochastic elements**\\\n",
    "(p1t, p2t, p3t, i6) are random values drawn from discrete distribution on a sample space corresponding to the realized values between 1946 and 2007. \n",
    "\n",
    "We relative weights for each year are determined by a 'damping factor'. For example, if the damping factor labeled damp, then the related weights of 2007, 2006, and 2005 are 1, 1 * damp, 1 * damp^2, and so on for the other years. The weights are converted to probabilities by dividing the sum of the weights  "
   ]
  },
  {
   "cell_type": "markdown",
   "metadata": {},
   "source": [
    "# Allocation Across All Assets"
   ]
  },
  {
   "cell_type": "code",
   "execution_count": 1,
   "metadata": {
    "id": "c30MlSqxP9qC",
    "tags": []
   },
   "outputs": [],
   "source": [
    "# Import libraries that may be used\n",
    "import numpy as np\n",
    "import pandas as pd\n",
    "import scipy.stats as sp\n",
    "import matplotlib.pyplot as plt"
   ]
  },
  {
   "cell_type": "code",
   "execution_count": 2,
   "metadata": {
    "tags": []
   },
   "outputs": [],
   "source": [
    "def simStats(Z_df):\n",
    "    '''Generic code to compute summary stats for each column in a data frame (input as Z_df)'''\n",
    "    # Compute sample mean, sample stdev, standard error, min, max\n",
    "    Mean = Z_df.mean()\n",
    "    Stdev = Z_df.std(ddof=1)      # Reduce degrees of freedom (ddof) by 1 to yield sample stdev\n",
    "    Quant05 = Z_df.quantile(0.05)\n",
    "    Quant95 = Z_df.quantile(0.95)\n",
    "    Stderr = Z_df.sem()\n",
    "    Min = Z_df.min()\n",
    "    Max = Z_df.max()\n",
    "\n",
    "    # Specify probability for confidence interval of sample mean\n",
    "    CI_prob = 0.95\n",
    "\n",
    "    # Compute confidence interval\n",
    "    Tail_prob = (1 - CI_prob)/2\n",
    "    z = sp.norm.ppf(1-Tail_prob)\n",
    "    CI_lo = Mean - z * Stderr\n",
    "    CI_hi = Mean + z * Stderr\n",
    "    \n",
    "    # Create & return data frame of sample statistics\n",
    "    Sample_stats = pd.concat([Mean,Stdev,Quant05,Quant95,Stderr,CI_lo,CI_hi,Min,Max],axis=1)\n",
    "    Sample_stats.columns = ['Sample mean', 'Sample stdev', 'Quantile 0.05','Quantile 0.95',\n",
    "                            'Std error','CI-lo','CI-hi','Min','Max']\n",
    "    return Sample_stats\n",
    "\n",
    "def simHistogram(Z_df):\n",
    "    '''\n",
    "    Generic code to plot histograms for each column in a data frame Z_df\n",
    "\n",
    "    '''\n",
    "    # Iterate over columns\n",
    "    for column in Z_df.columns:\n",
    "        # Clear previous plot\n",
    "        plt.clf()\n",
    "\n",
    "        # Generate histogram for current column\n",
    "        plt.hist(Z_df[column], bins='auto', edgecolor='black',density=True)\n",
    "\n",
    "        # Set labels and title\n",
    "        plt.xlabel(column)\n",
    "        plt.ylabel('Frequency')\n",
    "        plt.title(f'Histogram of {column}')\n",
    "        \n",
    "        # Display the histogram\n",
    "        plt.show()\n"
   ]
  },
  {
   "cell_type": "code",
   "execution_count": 3,
   "metadata": {
    "tags": []
   },
   "outputs": [],
   "source": [
    "def simShell(controls,inputs):\n",
    "    '''\n",
    "    Generic sim code: specifies deterministic model, sets some inputs as \n",
    "    random, returns random sample of model outputs stored as a data frame\n",
    "    '''\n",
    "    #A Unpack the controls (standardized)\n",
    "    seed = controls[0]               # Determines whether common seed is used\n",
    "    n = controls[1]                  # Sample size\n",
    "\n",
    "    #B Unpack the inputs (model-dependent)\n",
    "    N = inputs[0]\n",
    "    Y = inputs[1]\n",
    "    damp = inputs[2]\n",
    "    x = inputs[3]\n",
    "    hist_df = inputs[4]\n",
    "\n",
    "    #D Use same seed (true) or not false) for random number streams\n",
    "    if seed:\n",
    "        np.random.seed(100)          # Can change the seed value\n",
    "    \n",
    "    #E Generate sample(s) of random inputs & outputs (eg, in arrays)\n",
    "    ## Compute the probabilities for the discrete probability distribution\n",
    "    prob = damp**np.arange(len(hist_df))  # Compute list of damping factors\n",
    "    prob = (prob/sum(prob)).tolist()      # Normalize to sum to 1\n",
    "    prob.reverse()                   # Reverse the order so smallest to largest prob (higher prob for recent)\n",
    "    ## Store the column labels in a list for easy reference\n",
    "    df_labels = hist_df.columns.tolist() \n",
    "    ## Generate samples\n",
    "    sample=np.empty((0, len(x)))     # Initialize sample as empty array of dim x\n",
    "    for _ in range(n):               # loop over n samples\n",
    "        V = np.full(len(x),0)        # Initialize starting balance for each x\n",
    "        D = 1                        # Initialize the discount factor\n",
    "        for _ in range(N):           # Invest over N years\n",
    "            ## Generate random index for row in hist_df\n",
    "            index=np.random.choice(range(len(hist_df)),p=prob)\n",
    "            ## Generate the random percent change in assets & inflation\n",
    "            values = hist_df[df_labels[1:]].iloc[index]  # Random asset returns & inflation (exclude year)\n",
    "            i = values.iloc[len(values)-1:].tolist()[0]  # Store inflation (last element)\n",
    "            D = D/(1+i)               # Update discount factor\n",
    "            ## Create list of pct change in portfolio for each allocation in x\n",
    "            P = []\n",
    "            for j in range(len(x)):\n",
    "                P = P + [sum(values.iloc[:3]*x[j])+1]\n",
    "            ## Update value of investment at end of year\n",
    "            V = (V+Y) * P\n",
    "        PV = V * D                    # Compute present value of portfolio\n",
    "        ## add a row to the sample array\n",
    "        sample=np.append(sample,[PV],axis=0)\n",
    "        \n",
    "    #F Store array of outputs (& desired inputs) in data frame & return\n",
    "    Z_df = pd.DataFrame(sample)\n",
    "    return Z_df"
   ]
  },
  {
   "cell_type": "code",
   "execution_count": 5,
   "metadata": {
    "tags": []
   },
   "outputs": [
    {
     "name": "stdout",
     "output_type": "stream",
     "text": [
      "     Sample mean   Sample stdev  Quantile 0.05  Quantile 0.95    Std error  \\\n",
      "0  157642.837288  131064.993562   41566.050180  367394.419437  4144.639012   \n",
      "1  106900.812391   66450.246167   38730.386756  223961.312042  2101.341290   \n",
      "2   73057.191407   33804.281753   33244.253830  134712.689291  1068.985250   \n",
      "\n",
      "           CI-lo          CI-hi           Min           Max  \n",
      "0  149519.494096  165766.180480  16005.447985  1.813340e+06  \n",
      "1  102782.259144  111019.365638  19516.850897  8.014840e+05  \n",
      "2   70962.018816   75152.363997  18901.239728  3.444820e+05  \n"
     ]
    },
    {
     "data": {
      "image/png": "[encoded data removed]",
      "text/plain": [
       "<Figure size 640x480 with 1 Axes>"
      ]
     },
     "metadata": {},
     "output_type": "display_data"
    },
    {
     "data": {
      "image/png": "[encoded data removed]",
      "text/plain": [
       "<Figure size 640x480 with 1 Axes>"
      ]
     },
     "metadata": {},
     "output_type": "display_data"
    },
    {
     "data": {
      "image/png": "[encoded data removed]",
      "text/plain": [
       "<Figure size 640x480 with 1 Axes>"
      ]
     },
     "metadata": {},
     "output_type": "display_data"
    }
   ],
   "source": [
    "# Simulation control parameters \n",
    "## common seed indicator, sample size\n",
    "controls = [True,1000]\n",
    "\n",
    "# Load historical asset returns & inflation into a data frame\n",
    "Asset_df = pd.read_csv('asset_data.csv') \n",
    "\n",
    "# Model inputs (parameters & decision variables)\n",
    "## N, Y, damp, x, Asset_df (note x is a list of allocation lists)\n",
    "inputs = [40,1000,0.98,[[0.1,0.1,0.8],[0.2,0.2,0.6],[0.3,0.3,0.4]],Asset_df]\n",
    "\n",
    "# Run Monte Carlo simulation and display results\n",
    "Z_df = simShell(controls,inputs)      # Generate random sample of outputs\n",
    "print(simStats(Z_df))                 # Report summary stats of outputs\n",
    "simHistogram(Z_df)                    # Report histgrams of outputs"
   ]
  },
  {
   "cell_type": "code",
   "execution_count": 6,
   "metadata": {
    "tags": []
   },
   "outputs": [
    {
     "data": {
      "text/html": [
       "<div>\n",
       "<style scoped>\n",
       "    .dataframe tbody tr th:only-of-type {\n",
       "        vertical-align: middle;\n",
       "    }\n",
       "\n",
       "    .dataframe tbody tr th {\n",
       "        vertical-align: top;\n",
       "    }\n",
       "\n",
       "    .dataframe thead th {\n",
       "        text-align: right;\n",
       "    }\n",
       "</style>\n",
       "<table border=\"1\" class=\"dataframe\">\n",
       "  <thead>\n",
       "    <tr style=\"text-align: right;\">\n",
       "      <th></th>\n",
       "      <th>0</th>\n",
       "      <th>1</th>\n",
       "      <th>2</th>\n",
       "    </tr>\n",
       "  </thead>\n",
       "  <tbody>\n",
       "    <tr>\n",
       "      <th>0</th>\n",
       "      <td>48835.044668</td>\n",
       "      <td>42654.615199</td>\n",
       "      <td>36484.027840</td>\n",
       "    </tr>\n",
       "    <tr>\n",
       "      <th>1</th>\n",
       "      <td>100163.335844</td>\n",
       "      <td>74452.423646</td>\n",
       "      <td>54468.156049</td>\n",
       "    </tr>\n",
       "    <tr>\n",
       "      <th>2</th>\n",
       "      <td>42849.064986</td>\n",
       "      <td>40625.480809</td>\n",
       "      <td>37327.041682</td>\n",
       "    </tr>\n",
       "    <tr>\n",
       "      <th>3</th>\n",
       "      <td>92632.650715</td>\n",
       "      <td>64462.245318</td>\n",
       "      <td>44390.351093</td>\n",
       "    </tr>\n",
       "    <tr>\n",
       "      <th>4</th>\n",
       "      <td>106608.276293</td>\n",
       "      <td>85254.453240</td>\n",
       "      <td>66496.300881</td>\n",
       "    </tr>\n",
       "    <tr>\n",
       "      <th>...</th>\n",
       "      <td>...</td>\n",
       "      <td>...</td>\n",
       "      <td>...</td>\n",
       "    </tr>\n",
       "    <tr>\n",
       "      <th>995</th>\n",
       "      <td>205846.531904</td>\n",
       "      <td>123245.898146</td>\n",
       "      <td>71775.916327</td>\n",
       "    </tr>\n",
       "    <tr>\n",
       "      <th>996</th>\n",
       "      <td>117269.385146</td>\n",
       "      <td>80164.000810</td>\n",
       "      <td>53802.010027</td>\n",
       "    </tr>\n",
       "    <tr>\n",
       "      <th>997</th>\n",
       "      <td>94004.959838</td>\n",
       "      <td>80968.567934</td>\n",
       "      <td>67995.454183</td>\n",
       "    </tr>\n",
       "    <tr>\n",
       "      <th>998</th>\n",
       "      <td>52847.694417</td>\n",
       "      <td>42732.920844</td>\n",
       "      <td>33815.191700</td>\n",
       "    </tr>\n",
       "    <tr>\n",
       "      <th>999</th>\n",
       "      <td>109125.432118</td>\n",
       "      <td>81304.051974</td>\n",
       "      <td>59056.242365</td>\n",
       "    </tr>\n",
       "  </tbody>\n",
       "</table>\n",
       "<p>1000 rows × 3 columns</p>\n",
       "</div>"
      ],
      "text/plain": [
       "                 0              1             2\n",
       "0     48835.044668   42654.615199  36484.027840\n",
       "1    100163.335844   74452.423646  54468.156049\n",
       "2     42849.064986   40625.480809  37327.041682\n",
       "3     92632.650715   64462.245318  44390.351093\n",
       "4    106608.276293   85254.453240  66496.300881\n",
       "..             ...            ...           ...\n",
       "995  205846.531904  123245.898146  71775.916327\n",
       "996  117269.385146   80164.000810  53802.010027\n",
       "997   94004.959838   80968.567934  67995.454183\n",
       "998   52847.694417   42732.920844  33815.191700\n",
       "999  109125.432118   81304.051974  59056.242365\n",
       "\n",
       "[1000 rows x 3 columns]"
      ]
     },
     "execution_count": 6,
     "metadata": {},
     "output_type": "execute_result"
    }
   ],
   "source": [
    "Z_df"
   ]
  },
  {
   "cell_type": "markdown",
   "metadata": {},
   "source": [
    "# Results\n",
    "---\n",
    "* After simulating investment returns over 40yr, we can determine that an asset allocation distributed heavier among stocks, (80% stocks, 10% Bonds, 10% T-Bills) would generate the greatest returns compared to the other asset distributions."
   ]
  },
  {
   "cell_type": "markdown",
   "metadata": {},
   "source": [
    "# 100% Stock Allocation"
   ]
  },
  {
   "cell_type": "code",
   "execution_count": 7,
   "metadata": {
    "tags": []
   },
   "outputs": [
    {
     "name": "stdout",
     "output_type": "stream",
     "text": [
      "     Sample mean   Sample stdev  Quantile 0.05  Quantile 0.95   Std error  \\\n",
      "0  234018.119875  256458.594139   43393.277236  643619.794614  8109.93283   \n",
      "\n",
      "           CI-lo          CI-hi           Min           Max  \n",
      "0  218122.943611  249913.296139  12615.517395  3.984553e+06  \n"
     ]
    },
    {
     "data": {
      "image/png": "[encoded data removed]",
      "text/plain": [
       "<Figure size 640x480 with 1 Axes>"
      ]
     },
     "metadata": {},
     "output_type": "display_data"
    }
   ],
   "source": [
    "import numpy as np\n",
    "import pandas as pd\n",
    "import scipy.stats as sp\n",
    "import matplotlib.pyplot as plt\n",
    "\n",
    "def simShell(controls,inputs):\n",
    "    '''\n",
    "    Generic sim code: specifies deterministic model, sets some inputs as \n",
    "    random, returns random sample of model outputs stored as a data frame\n",
    "    '''\n",
    "    #A Unpack the controls (standardized)\n",
    "    seed = controls[0]               # Determines whether common seed is used\n",
    "    n = controls[1]                  # Sample size\n",
    "\n",
    "    #B Unpack the inputs (model-dependent)\n",
    "    N = inputs[0]\n",
    "    Y = inputs[1]\n",
    "    damp = inputs[2]\n",
    "    x = inputs[3]\n",
    "    hist_df = inputs[4]\n",
    "\n",
    "    #D Use same seed (true) or not false) for random number streams\n",
    "    if seed:\n",
    "        np.random.seed(100)          # Can change the seed value\n",
    "    \n",
    "    #E Generate sample(s) of random inputs & outputs (eg, in arrays)\n",
    "    ## Compute the probabilities for the discrete probability distribution\n",
    "    prob = damp**np.arange(len(hist_df))  # Compute list of damping factors\n",
    "    prob = (prob/sum(prob)).tolist()      # Normalize to sum to 1\n",
    "    prob.reverse()                   # Reverse the order so smallest to largest prob (higher prob for recent)\n",
    "    ## Store the column labels in a list for easy reference\n",
    "    df_labels = hist_df.columns.tolist() \n",
    "    ## Generate samples\n",
    "    sample=np.empty((0, len(x)))     # Initialize sample as empty array of dim x\n",
    "    for _ in range(n):               # loop over n samples\n",
    "        V = np.full(len(x),0)        # Initialize starting balance for each x\n",
    "        D = 1                        # Initialize the discount factor\n",
    "        for _ in range(N):           # Invest over N years\n",
    "            ## Generate random index for row in hist_df\n",
    "            index=np.random.choice(range(len(hist_df)),p=prob)\n",
    "            ## Generate the random percent change in assets & inflation\n",
    "            values = hist_df[df_labels[1:]].iloc[index]  # Random asset returns & inflation (exclude year)\n",
    "            i = values.iloc[len(values)-1:].tolist()[0]  # Store inflation (last element)\n",
    "            D = D/(1+i)               # Update discount factor\n",
    "            ## Create list of pct change in portfolio for each allocation in x\n",
    "            P = []\n",
    "            for j in range(len(x)):\n",
    "                P = P + [sum(values.iloc[:3]*x[j])+1]\n",
    "            ## Update value of investment at end of year\n",
    "            V = (V+Y) * P\n",
    "        PV = V * D                    # Compute present value of portfolio\n",
    "        ## add a row to the sample array\n",
    "        sample=np.append(sample,[PV],axis=0)\n",
    "        \n",
    "    #F Store array of outputs (& desired inputs) in data frame & return\n",
    "    Z_df = pd.DataFrame(sample)\n",
    "    return Z_df\n",
    "\n",
    "\n",
    "\n",
    "\n",
    "\n",
    "def simStats(Z_df):\n",
    "    '''Generic code to compute summary stats for each column in a data frame (input as Z_df)'''\n",
    "    # Compute sample mean, sample stdev, standard error, min, max\n",
    "    Mean = Z_df.mean()\n",
    "    Stdev = Z_df.std(ddof=1)              # Reduce degrees of freedom (ddof) by 1 to yield sample stdev\n",
    "    Quant05 = Z_df.quantile(0.05)\n",
    "    Quant95 = Z_df.quantile(0.95)\n",
    "    Stderr = Z_df.sem()\n",
    "    Min = Z_df.min()\n",
    "    Max = Z_df.max()\n",
    "\n",
    "    # Specify probability for confidence interval of sample mean\n",
    "    CI_prob = 0.95\n",
    "\n",
    "    # Compute confidence interval\n",
    "    Tail_prob = (1 - CI_prob)/2\n",
    "    z = sp.norm.ppf(1-Tail_prob)\n",
    "    CI_lo = Mean - z * Stderr\n",
    "    CI_hi = Mean + z * Stderr\n",
    "    \n",
    "    # Create & return data frame of sample statistics\n",
    "    Sample_stats = pd.concat([Mean,Stdev,Quant05,Quant95,Stderr,CI_lo,CI_hi,Min,Max],axis=1)\n",
    "    Sample_stats.columns = ['Sample mean', 'Sample stdev', 'Quantile 0.05','Quantile 0.95',\n",
    "                            'Std error','CI-lo','CI-hi','Min','Max']\n",
    "    return Sample_stats\n",
    "\n",
    "\n",
    "\n",
    "\n",
    "def simHistogram(Z_df):\n",
    "    '''\n",
    "    Generic code to plot histograms for each column in a data frame Z_df\n",
    "\n",
    "    '''\n",
    "    # Iterate over columns\n",
    "    for column in Z_df.columns:\n",
    "        # Clear previous plot\n",
    "        plt.clf()\n",
    "\n",
    "        # Generate histogram for current column\n",
    "        plt.hist(Z_df[column], bins='auto', edgecolor='black',density=True)\n",
    "\n",
    "        # Set labels and title\n",
    "        plt.xlabel(column)\n",
    "        plt.ylabel('Frequency')\n",
    "        plt.title(f'Histogram of {column}')\n",
    "        \n",
    "        # Display the histogram\n",
    "        plt.show()\n",
    "\n",
    "\n",
    "# Simulation control parameters \n",
    "controls = [True, 1000]\n",
    "\n",
    "# Load historical asset returns & inflation into a data frame\n",
    "file_name = 'Example_11.6_data.csv'\n",
    "Asset_df = pd.read_csv('psl7_sheet.csv') \n",
    "\n",
    "# Model inputs for 100% stock allocation\n",
    "inputs = [40, 1000, 0.98, [[0, 0, 1]], Asset_df]\n",
    "\n",
    "# Run Monte Carlo simulation for 100% stock allocation\n",
    "Z_df = simShell(controls, inputs)\n",
    "print(simStats(Z_df))\n",
    "simHistogram(Z_df)\n"
   ]
  },
  {
   "cell_type": "markdown",
   "metadata": {},
   "source": [
    "# Results\n",
    "---\n",
    "* After simulation of 100% stock allocation, we can determine that you have the potential to make far greater returns than a portfolio diversified among stocks, T-bills, and bonds. Allocating 100% of capital to stocks does increase risk and has the potential to make less due to not having guaranteed returns in bonds/T-bills, but based on historic market performance, that is a very unlikely possibility."
   ]
  },
  {
   "cell_type": "code",
   "execution_count": null,
   "metadata": {},
   "outputs": [],
   "source": []
  }
 ],
 "metadata": {
  "colab": {
   "provenance": []
  },
  "kernelspec": {
   "display_name": "Python 3 (ipykernel)",
   "language": "python",
   "name": "python3"
  },
  "language_info": {
   "codemirror_mode": {
    "name": "ipython",
    "version": 3
   },
   "file_extension": ".py",
   "mimetype": "text/x-python",
   "name": "python",
   "nbconvert_exporter": "python",
   "pygments_lexer": "ipython3",
   "version": "3.10.13"
  }
 },
 "nbformat": 4,
 "nbformat_minor": 4
}
